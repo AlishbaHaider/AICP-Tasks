{
  "nbformat": 4,
  "nbformat_minor": 0,
  "metadata": {
    "colab": {
      "provenance": []
    },
    "kernelspec": {
      "name": "python3",
      "display_name": "Python 3"
    },
    "language_info": {
      "name": "python"
    }
  },
  "cells": [
    {
      "cell_type": "code",
      "execution_count": 2,
      "metadata": {
        "id": "8uivvYtsLrmM",
        "colab": {
          "base_uri": "https://localhost:8080/"
        },
        "outputId": "cda0013a-baad-4be3-8cce-b36d334381b6"
      },
      "outputs": [
        {
          "name": "stdout",
          "output_type": "stream",
          "text": [
            "student id : 23Y610014\n",
            "Press 1 to display the bill of slab 1 and slab 2\n",
            "Press 2 to display the bill of slab 3\n",
            "Press any other keys to exit\n",
            "1\n",
            "bill for slab1 is:\n",
            "550\n",
            "650\n",
            "750\n",
            "bill for slab2 is:\n",
            "1800\n",
            "2250\n",
            "2550\n",
            "student id : 23Y610014\n",
            "Press 1 to display the bill of slab 1 and slab 2\n",
            "Press 2 to display the bill of slab 3\n",
            "Press any other keys to exit\n",
            "2\n",
            "bill for slab3 is:\n",
            "4200\n",
            "4600\n",
            "4800\n",
            "student id : 23Y610014\n",
            "Press 1 to display the bill of slab 1 and slab 2\n",
            "Press 2 to display the bill of slab 3\n",
            "Press any other keys to exit\n",
            "3\n"
          ]
        }
      ],
      "source": [
        "id = '23Y610014'\n",
        "Allunits = [\n",
        "         [55, 65, 75],\n",
        "         [120,150,170],\n",
        "         [210, 230, 240]\n",
        "         ]\n",
        "bills = []\n",
        "def costSlab1():\n",
        "   print('bill for slab1 is:')\n",
        "   for unit in Allunits[0]:\n",
        "    print(unit*10)\n",
        "def costSlab2():\n",
        "   print('bill for slab2 is:')\n",
        "   for unit in Allunits[1]:\n",
        "    print(unit*15)\n",
        "def costSlab3():\n",
        "   print('bill for slab3 is:')\n",
        "   for unit in Allunits[2]:\n",
        "    print(unit*20)\n",
        "while(True):\n",
        "  print('student id :', id)\n",
        "  print('Press 1 to display the bill of slab 1 and slab 2')\n",
        "  print('Press 2 to display the bill of slab 3')\n",
        "  print('Press any other keys to exit')\n",
        "  x = int(input())\n",
        "  if (x==1):\n",
        "    costSlab1()\n",
        "    costSlab2()\n",
        "  elif(x==2):\n",
        "    costSlab3()\n",
        "  else:\n",
        "    break\n",
        "\n",
        "\n",
        "\n",
        "\n",
        "\n"
      ]
    },
    {
      "cell_type": "code",
      "source": [],
      "metadata": {
        "id": "rCXbLannRKou"
      },
      "execution_count": null,
      "outputs": []
    }
  ]
}